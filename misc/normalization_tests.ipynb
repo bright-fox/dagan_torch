{
 "cells": [
  {
   "cell_type": "markdown",
   "id": "e3fec471",
   "metadata": {},
   "source": [
    "### Normalization Tests\n",
    "\n",
    "This notebook was used to find a way to use the same transformation as `transforms.Compose` on batches of images as `transforms.Compose` was limited\n",
    "to single images as input."
   ]
  },
  {
   "cell_type": "code",
   "execution_count": 1,
   "id": "24e4b0c1",
   "metadata": {},
   "outputs": [],
   "source": [
    "import torch\n",
    "from torch.utils.data import Dataset, DataLoader\n",
    "import numpy as np\n",
    "import warnings"
   ]
  },
  {
   "cell_type": "code",
   "execution_count": 2,
   "id": "529b3d3e",
   "metadata": {},
   "outputs": [],
   "source": [
    "\n",
    "class DaganDataset(Dataset):\n",
    "    \"\"\"Face Landmarks dataset.\"\"\"\n",
    "\n",
    "    def __init__(self, originals, augmentations, transform=None):\n",
    "        assert len(originals) == len(augmentations)\n",
    "        self.originals = originals\n",
    "        self.augmentations = augmentations\n",
    "        self.transform = transform\n",
    "\n",
    "    def __len__(self):\n",
    "        return len(self.originals)\n",
    "\n",
    "    def __getitem__(self, idx):\n",
    "        with warnings.catch_warnings():\n",
    "            warnings.simplefilter(\"ignore\", category=UserWarning)\n",
    "            return self.transform(self.originals[idx]), self.transform(\n",
    "                self.augmentations[idx]\n",
    "            )\n",
    "\n",
    "\n",
    "def create_dagan_dataloader(originals, augmentations, transform, batch_size):\n",
    "    train_dataset = DaganDataset(originals, augmentations, transform)\n",
    "    return DataLoader(train_dataset, batch_size=batch_size, shuffle=True, num_workers=1)\n"
   ]
  },
  {
   "cell_type": "code",
   "execution_count": 4,
   "id": "ecf4e7c1",
   "metadata": {},
   "outputs": [],
   "source": [
    "train_dataset_path = '../../data/dagan/train.npz'\n",
    "dataset = np.load(train_dataset_path)"
   ]
  },
  {
   "cell_type": "code",
   "execution_count": 11,
   "id": "2f5145cc",
   "metadata": {},
   "outputs": [],
   "source": [
    "in_channels = dataset['orig'].shape[-1]\n",
    "img_size = dataset['orig'].shape[2]\n",
    "batch_size = 32\n",
    "max_pixel_value = 1.0\n",
    "mid_pixel_value = max_pixel_value / 2"
   ]
  },
  {
   "cell_type": "code",
   "execution_count": 12,
   "id": "fa57c7c2",
   "metadata": {},
   "outputs": [],
   "source": [
    "import torchvision.transforms as transforms\n",
    "train_transform = transforms.Compose(\n",
    "    [\n",
    "        transforms.ToPILImage(),\n",
    "        transforms.Resize(img_size),\n",
    "        transforms.ToTensor(),\n",
    "        transforms.Normalize(\n",
    "            (mid_pixel_value,) * in_channels, (mid_pixel_value,) * in_channels # mean, standard deviation\n",
    "        ),\n",
    "    ]\n",
    ")"
   ]
  },
  {
   "cell_type": "code",
   "execution_count": 13,
   "id": "0f4c9eac",
   "metadata": {},
   "outputs": [],
   "source": [
    "dl = create_dagan_dataloader(dataset['orig'], dataset['aug'], train_transform, batch_size)"
   ]
  },
  {
   "cell_type": "code",
   "execution_count": 15,
   "id": "a82d30f1",
   "metadata": {},
   "outputs": [],
   "source": [
    "a = dl.dataset.originals[0]"
   ]
  },
  {
   "cell_type": "code",
   "execution_count": 19,
   "id": "6d845ac2",
   "metadata": {},
   "outputs": [
    {
     "data": {
      "text/plain": [
       "(84, 84, 3)"
      ]
     },
     "execution_count": 19,
     "metadata": {},
     "output_type": "execute_result"
    }
   ],
   "source": [
    "a.shape"
   ]
  },
  {
   "cell_type": "code",
   "execution_count": 22,
   "id": "1fa23de9",
   "metadata": {},
   "outputs": [
    {
     "data": {
      "text/plain": [
       "(1, 84, 84, 3)"
      ]
     },
     "execution_count": 22,
     "metadata": {},
     "output_type": "execute_result"
    }
   ],
   "source": [
    "b = a[None, :]\n",
    "b.shape"
   ]
  }
 ],
 "metadata": {
  "kernelspec": {
   "display_name": "mt",
   "language": "python",
   "name": "mt"
  },
  "language_info": {
   "codemirror_mode": {
    "name": "ipython",
    "version": 3
   },
   "file_extension": ".py",
   "mimetype": "text/x-python",
   "name": "python",
   "nbconvert_exporter": "python",
   "pygments_lexer": "ipython3",
   "version": "3.8.13"
  }
 },
 "nbformat": 4,
 "nbformat_minor": 5
}
